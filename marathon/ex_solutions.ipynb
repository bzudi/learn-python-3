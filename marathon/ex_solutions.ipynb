{
 "cells": [
  {
   "cell_type": "markdown",
   "metadata": {},
   "source": [
    "# OOP 1"
   ]
  },
  {
   "cell_type": "markdown",
   "metadata": {},
   "source": [
    "Implement AppleProduct class. "
   ]
  },
  {
   "cell_type": "code",
   "execution_count": null,
   "metadata": {},
   "outputs": [],
   "source": [
    "class AppleProduct:\n",
    "    def __init__(self, name, price):\n",
    "        self.name = name\n",
    "        self.price = price\n",
    "\n",
    "    def __eq__(self, other):\n",
    "        return self.name == other.name\n",
    "\n",
    "    def __str__(self):\n",
    "        return self.name + ' ' + str(self.price)\n",
    "\n"
   ]
  },
  {
   "cell_type": "markdown",
   "metadata": {},
   "source": [
    "Implement AppleStore class. "
   ]
  },
  {
   "cell_type": "code",
   "execution_count": null,
   "metadata": {
    "scrolled": false
   },
   "outputs": [],
   "source": [
    "class AppleStore:\n",
    "    def __init__(self, city, products):\n",
    "        self.city = city\n",
    "        self.products = products\n",
    "\n",
    "    def get_most_expensive_product(self):\n",
    "        most_exp_product = self.products[0]\n",
    "        for p in self.products[1:]:\n",
    "            if p.price > most_exp_product.price:\n",
    "                most_exp_product = p\n",
    "\n",
    "        return most_exp_product\n",
    "\n",
    "    def valid_alternative_for(self, other_store):\n",
    "        if self.city != other_store.city:\n",
    "            return False\n",
    "\n",
    "        for p in other_store.products:\n",
    "            if p not in self.products:\n",
    "                return False\n",
    "\n",
    "        return True"
   ]
  },
  {
   "cell_type": "code",
   "execution_count": null,
   "metadata": {},
   "outputs": [],
   "source": [
    "iphone = AppleProduct('iphone 11', 5000)\n",
    "ipad = AppleProduct('ipad mini', 3500)\n",
    "macbook = AppleProduct('macbook', 12000)\n",
    "macbook_air = AppleProduct('macbook_air', 15000)\n",
    "\n",
    "dizingof_center_store = AppleStore('tlv', [iphone, ipad, macbook, macbook_air])\n",
    "azrieli_store = AppleStore('tlv', [iphone, ipad, macbook])\n",
    "malcha_mall_store = AppleStore('jeruslam', [iphone, ipad, macbook, macbook_air])\n",
    "\n",
    "print('dizingof_center_store most expensive product')\n",
    "print(str(dizingof_center_store.get_most_expensive_product()))\n",
    "print()\n",
    "\n",
    "print('azrieli_store most expensive product')\n",
    "print(str(azrieli_store.get_most_expensive_product()))\n",
    "print()\n",
    "\n",
    "print('malcha_mall_store most expensive product')\n",
    "print(str(malcha_mall_store.get_most_expensive_product()))\n",
    "print()\n",
    "\n",
    "print('dizingof_center_store is valid_alternative_for azrieli_store')\n",
    "print(dizingof_center_store.valid_alternative_for(azrieli_store))# yes same city and gas all products\n",
    "print()\n",
    "\n",
    "print('azrieli_store is valid_alternative_for dizingof_center_store')\n",
    "print(azrieli_store.valid_alternative_for(dizingof_center_store))  # no, same city but dont have macbook_air\n",
    "print()\n",
    "\n",
    "print('dizingof_center_store is valid_alternative_for malcha_mall_store')\n",
    "print(dizingof_center_store.valid_alternative_for(malcha_mall_store))  # no not same city"
   ]
  },
  {
   "cell_type": "markdown",
   "metadata": {},
   "source": [
    "# OOP 2"
   ]
  },
  {
   "cell_type": "markdown",
   "metadata": {},
   "source": [
    "Implement FBUser class."
   ]
  },
  {
   "cell_type": "code",
   "execution_count": null,
   "metadata": {},
   "outputs": [],
   "source": [
    "\n",
    "class FBUser:\n",
    "    def __init__(self, username, age, interests):\n",
    "        self.username = username\n",
    "        self.age = age\n",
    "        self.interests = interests\n",
    "\n",
    "    def __eq__(self, other):\n",
    "        return self.username == other.username"
   ]
  },
  {
   "cell_type": "markdown",
   "metadata": {},
   "source": [
    "Implement Facebook class."
   ]
  },
  {
   "cell_type": "code",
   "execution_count": null,
   "metadata": {},
   "outputs": [],
   "source": [
    "class Facebook:\n",
    "    def __init__(self, users):\n",
    "        self.users = users\n",
    "\n",
    "    def freinds_recommendations(self, user):\n",
    "        recommendations = []\n",
    "        for u in self.users:\n",
    "            if u != user:\n",
    "                shared_interests = [i for i in u.interests if i in user.interests]\n",
    "                if shared_interests and abs(u.age - user.age) <= 5:\n",
    "                    recommendations.append(u)\n",
    "\n",
    "        return recommendations"
   ]
  },
  {
   "cell_type": "code",
   "execution_count": null,
   "metadata": {},
   "outputs": [],
   "source": [
    "y = FBUser('yossi', 26, ['sport', 'food', 'music'])\n",
    "d = FBUser('david', 27, ['movies', 'sport', 'books'])\n",
    "k = FBUser('kobi', 35, ['food', 'sport', 'books'])\n",
    "e = FBUser('eli', 25, ['movies', 'travel', 'books'])\n",
    "fb = Facebook([y, d, k, e])\n",
    "\n",
    "recommendations = fb.freinds_recommendations(y)\n",
    "\n",
    "for r in recommendations:\n",
    "    print(r.username)"
   ]
  },
  {
   "cell_type": "markdown",
   "metadata": {},
   "source": [
    "# Recursion"
   ]
  },
  {
   "cell_type": "code",
   "execution_count": null,
   "metadata": {},
   "outputs": [],
   "source": [
    "# n>=0\n",
    "# calculate 0+1+2+3....+n\n",
    "def sum_up_to(n):\n",
    "    if n <= 1:\n",
    "        return n\n",
    "    else:\n",
    "        return n + sum_up_to(n - 1)\n"
   ]
  },
  {
   "cell_type": "code",
   "execution_count": null,
   "metadata": {},
   "outputs": [],
   "source": [
    "sum_up_to(10)"
   ]
  },
  {
   "cell_type": "code",
   "execution_count": null,
   "metadata": {},
   "outputs": [],
   "source": [
    "# n>=0\n",
    "# print n n-1 .... 2 1 0\n",
    "def print_all_numbers_from_n_to_zero(n):\n",
    "    if n == 0:\n",
    "        print(0)\n",
    "    else:\n",
    "        print(n)\n",
    "        print_all_numbers_from_n_to_zero(n - 1)\n"
   ]
  },
  {
   "cell_type": "code",
   "execution_count": null,
   "metadata": {},
   "outputs": [],
   "source": [
    "print_all_numbers_from_n_to_zero(10)"
   ]
  },
  {
   "cell_type": "code",
   "execution_count": null,
   "metadata": {},
   "outputs": [],
   "source": [
    "# n>=0\n",
    "# print 0 1 2 3 4...n\n",
    "def print_all_numbers_from_zero_to(n):\n",
    "    if n == 0:\n",
    "        print(0)\n",
    "    else:\n",
    "        print_all_numbers_from_zero_to(n - 1)\n",
    "        print(n)\n"
   ]
  },
  {
   "cell_type": "code",
   "execution_count": null,
   "metadata": {},
   "outputs": [],
   "source": [
    "print_all_numbers_from_zero_to(10)"
   ]
  },
  {
   "cell_type": "code",
   "execution_count": null,
   "metadata": {},
   "outputs": [],
   "source": [
    "# l is not empty\n",
    "def max_element(l):\n",
    "    if len(l) == 1:\n",
    "        return l[0]\n",
    "    else:\n",
    "        return max(l[0], max_element(l[1:]))\n"
   ]
  },
  {
   "cell_type": "code",
   "execution_count": null,
   "metadata": {},
   "outputs": [],
   "source": [
    "max_element([1,2,3,4404,5,6,77,222])"
   ]
  },
  {
   "cell_type": "code",
   "execution_count": null,
   "metadata": {},
   "outputs": [],
   "source": [
    "# s is not empty\n",
    "def reverse_str(s):\n",
    "    if len(s) == 2:\n",
    "        return s[1] + s[0]\n",
    "    else:\n",
    "        return s[-1] + reverse_str(s[:-1])"
   ]
  },
  {
   "cell_type": "code",
   "execution_count": null,
   "metadata": {},
   "outputs": [],
   "source": [
    "reverse_str('ko yllanif ma i')"
   ]
  },
  {
   "cell_type": "code",
   "execution_count": null,
   "metadata": {},
   "outputs": [],
   "source": []
  },
  {
   "cell_type": "code",
   "execution_count": null,
   "metadata": {},
   "outputs": [],
   "source": []
  },
  {
   "cell_type": "code",
   "execution_count": null,
   "metadata": {},
   "outputs": [],
   "source": []
  },
  {
   "cell_type": "code",
   "execution_count": null,
   "metadata": {},
   "outputs": [],
   "source": []
  },
  {
   "cell_type": "code",
   "execution_count": null,
   "metadata": {},
   "outputs": [],
   "source": []
  },
  {
   "cell_type": "code",
   "execution_count": null,
   "metadata": {},
   "outputs": [],
   "source": []
  },
  {
   "cell_type": "code",
   "execution_count": null,
   "metadata": {},
   "outputs": [],
   "source": []
  },
  {
   "cell_type": "code",
   "execution_count": null,
   "metadata": {},
   "outputs": [],
   "source": []
  },
  {
   "cell_type": "code",
   "execution_count": null,
   "metadata": {},
   "outputs": [],
   "source": []
  },
  {
   "cell_type": "code",
   "execution_count": null,
   "metadata": {},
   "outputs": [],
   "source": []
  },
  {
   "cell_type": "code",
   "execution_count": null,
   "metadata": {},
   "outputs": [],
   "source": []
  },
  {
   "cell_type": "code",
   "execution_count": null,
   "metadata": {},
   "outputs": [],
   "source": []
  },
  {
   "cell_type": "code",
   "execution_count": null,
   "metadata": {},
   "outputs": [],
   "source": []
  },
  {
   "cell_type": "code",
   "execution_count": null,
   "metadata": {},
   "outputs": [],
   "source": []
  },
  {
   "cell_type": "code",
   "execution_count": null,
   "metadata": {},
   "outputs": [],
   "source": []
  }
 ],
 "metadata": {
  "kernelspec": {
   "display_name": "Python 3",
   "language": "python",
   "name": "python3"
  },
  "language_info": {
   "codemirror_mode": {
    "name": "ipython",
    "version": 3
   },
   "file_extension": ".py",
   "mimetype": "text/x-python",
   "name": "python",
   "nbconvert_exporter": "python",
   "pygments_lexer": "ipython3",
   "version": "3.7.4"
  }
 },
 "nbformat": 4,
 "nbformat_minor": 2
}
