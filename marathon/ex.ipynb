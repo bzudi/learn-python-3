{
 "cells": [
  {
   "cell_type": "markdown",
   "metadata": {},
   "source": [
    "\n",
    "# Intro to python - Marathon\n",
    "**Tutor** Udi Ben Zvi<br>\n",
    "**Email** - bzvi.udi@gmail.com<br>\n",
    "**Notebooks** https://github.com/bzudi/learn-python-3\n",
    "\n",
    "\n",
    "## Plan for today\n",
    "#### Exam Preperation Exerices -  1.5 Hours make at least 1 recursion and 1 OOP exercise\n",
    "\n",
    "#### Short Break 15 min\n",
    "\n",
    "#### Exam Preperation Exerices Solutions - 15 min\n",
    "\n",
    "#### Exam Simulation  - 2 Hours\n",
    "\n",
    "#### Short Break 15 min\n",
    "\n",
    "#### Exam Solution - 1 Hour"
   ]
  },
  {
   "cell_type": "markdown",
   "metadata": {},
   "source": [
    "# OOP 1"
   ]
  },
  {
   "cell_type": "markdown",
   "metadata": {},
   "source": [
    "Implement AppleProduct class. "
   ]
  },
  {
   "cell_type": "code",
   "execution_count": null,
   "metadata": {},
   "outputs": [],
   "source": [
    "class AppleProduct:\n",
    "    # name is a string. price a float\n",
    "    def __init__(self, name, price):\n",
    "        pass\n",
    "\n",
    "    # eq if has the same name\n",
    "    def __eq__(self, other):\n",
    "        pass\n"
   ]
  },
  {
   "cell_type": "markdown",
   "metadata": {},
   "source": [
    "Implement AppleStore class. "
   ]
  },
  {
   "cell_type": "code",
   "execution_count": null,
   "metadata": {
    "scrolled": false
   },
   "outputs": [],
   "source": [
    "class AppleStore:\n",
    "    # city is a string. product are list of AppleProduct objects\n",
    "    def __init__(self, city, products):\n",
    "        pass\n",
    "    \n",
    "    # returns the product with the highest price in the store\n",
    "    def get_most_expensive_product(self):\n",
    "        pass\n",
    "\n",
    "    # return True if the stores are in the same city and if the store has all the products other store has\n",
    "    def valid_alternative_for(self, other_store):\n",
    "        pass\n",
    "\n",
    "\n"
   ]
  },
  {
   "cell_type": "markdown",
   "metadata": {},
   "source": [
    "# OOP 2"
   ]
  },
  {
   "cell_type": "markdown",
   "metadata": {},
   "source": [
    "Implement FBUser class."
   ]
  },
  {
   "cell_type": "code",
   "execution_count": null,
   "metadata": {},
   "outputs": [],
   "source": [
    "class FBUser:\n",
    "    # username is a string. age is an int. interesets is a list of strings e.g ['sport','movies','fishing']\n",
    "    def __init__(self, username, age, interests):\n",
    "    \n",
    "    # eq if has the same username\n",
    "    def __eq__(self, other):"
   ]
  },
  {
   "cell_type": "markdown",
   "metadata": {},
   "source": [
    "Implement Facebook class."
   ]
  },
  {
   "cell_type": "code",
   "execution_count": null,
   "metadata": {},
   "outputs": [],
   "source": [
    "class Facebook:\n",
    "    # users is a list of FBUser objects\n",
    "    def __init__(self, users):\n",
    "        \n",
    "    # returns users with at least 1 common interest and with age difference smaller than 5 years.\n",
    "    def freinds_recommendations(self, user):\n",
    "        pass"
   ]
  },
  {
   "cell_type": "markdown",
   "metadata": {},
   "source": [
    "# Recursion"
   ]
  },
  {
   "cell_type": "code",
   "execution_count": null,
   "metadata": {},
   "outputs": [],
   "source": [
    "# n>=0\n",
    "# calculate 0+1+2+3....+n\n",
    "def sum_up_to(n):\n",
    "    pass"
   ]
  },
  {
   "cell_type": "code",
   "execution_count": null,
   "metadata": {},
   "outputs": [],
   "source": [
    "# n>=0\n",
    "# print n n-1 .... 2 1 0\n",
    "def print_all_numbers_from_n_to_zero(n):\n",
    "    pass"
   ]
  },
  {
   "cell_type": "code",
   "execution_count": null,
   "metadata": {},
   "outputs": [],
   "source": [
    "# n>=0\n",
    "# print 0 1 2 3 4...n\n",
    "def print_all_numbers_from_zero_to(n):\n",
    "    pass"
   ]
  },
  {
   "cell_type": "code",
   "execution_count": null,
   "metadata": {},
   "outputs": [],
   "source": [
    "# l is not empty\n",
    "def max_element(l):\n",
    "    pass"
   ]
  },
  {
   "cell_type": "code",
   "execution_count": null,
   "metadata": {},
   "outputs": [],
   "source": [
    "# s is not empty\n",
    "def reverse_str(s):\n",
    "    pass"
   ]
  }
 ],
 "metadata": {
  "kernelspec": {
   "display_name": "Python 3",
   "language": "python",
   "name": "python3"
  },
  "language_info": {
   "codemirror_mode": {
    "name": "ipython",
    "version": 3
   },
   "file_extension": ".py",
   "mimetype": "text/x-python",
   "name": "python",
   "nbconvert_exporter": "python",
   "pygments_lexer": "ipython3",
   "version": "3.7.4"
  }
 },
 "nbformat": 4,
 "nbformat_minor": 2
}
