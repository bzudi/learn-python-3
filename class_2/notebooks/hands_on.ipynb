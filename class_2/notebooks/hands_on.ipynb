{
 "cells": [
  {
   "cell_type": "markdown",
   "metadata": {},
   "source": [
    "# 1. Is Prime Number\n",
    "Implement `is_prime` function which takes a number and return True if the number is prime."
   ]
  },
  {
   "cell_type": "code",
   "execution_count": null,
   "metadata": {},
   "outputs": [],
   "source": [
    "# Your implementation here\n",
    "def is_prime(number):\n",
    "    pass"
   ]
  },
  {
   "cell_type": "code",
   "execution_count": null,
   "metadata": {},
   "outputs": [],
   "source": [
    "\n",
    "assert is_prime(2) == True\n",
    "assert is_prime(3) == True\n",
    "assert is_prime(8191) == True\n",
    "assert is_prime(131071) == True\n",
    "assert is_prime(524287) == True\n",
    "# if you find a way to optimize your code try this\n",
    "# assert is_prime(67280421310721) == True \n",
    "\n",
    "assert is_prime(-1) == False\n",
    "assert is_prime(1) == False\n",
    "assert is_prime(8192) == False\n",
    "assert is_prime(10) == False\n",
    "assert is_prime(10012) == False\n",
    "assert is_prime(54) == False"
   ]
  },
  {
   "cell_type": "markdown",
   "metadata": {},
   "source": [
    "# 2. Detect angrams\n",
    "An anagram is a word or phrase formed by rearranging the letters e.g \n",
    "- Listen = Silent\n",
    "- A gentleman = Elegant man <br>\n",
    "Implement `detect_angrams` function which takes a 2 phrases and return True if they are angrams"
   ]
  },
  {
   "cell_type": "code",
   "execution_count": null,
   "metadata": {},
   "outputs": [],
   "source": [
    "# Your implementation here: return True if angram False Otherwise\n",
    "def detect_angram(w1,w2):\n",
    "    pass"
   ]
  },
  {
   "cell_type": "code",
   "execution_count": null,
   "metadata": {},
   "outputs": [],
   "source": [
    "assert detect_angram('A gentleman','Elegant man') == True\n",
    "assert detect_angram('A gentleman','Elegant nan') == False"
   ]
  },
  {
   "cell_type": "markdown",
   "metadata": {},
   "source": [
    "# 3. Encryption Decryption\n",
    "Caesar cipher is one of the simplest and most widely known encryption techniques. <br>\n",
    "Each letter in the plaintext is replaced by a letter some fixed positions up the alphabet.<br> \n",
    "For example, with a shift of 3, A would be replaced by D, B would become E, and so on. The method is named after Julius Caesar, who used it in his private correspondence."
   ]
  },
  {
   "cell_type": "code",
   "execution_count": null,
   "metadata": {},
   "outputs": [],
   "source": [
    "# Your implementation here:\n",
    "class Cipher:\n",
    "    def __init__(self, shift):\n",
    "        pass\n",
    "\n",
    "    # return encrypted msg (shifted)\n",
    "    def encrypt(self, msg):\n",
    "        pass\n",
    "\n",
    "    # return the original msg (not shifted)\n",
    "    def decrypt(self, encrypted_msg):\n",
    "        pass\n"
   ]
  },
  {
   "cell_type": "code",
   "execution_count": null,
   "metadata": {},
   "outputs": [],
   "source": [
    "assert Cipher('5').encrypt('hello world') == 'mjqqt btwqi'\n",
    "assert Cipher('5').decrypt('mjqqt btwqi') == 'hello world'\n",
    "\n"
   ]
  }
 ],
 "metadata": {
  "kernelspec": {
   "display_name": "Python 3",
   "language": "python",
   "name": "python3"
  },
  "language_info": {
   "codemirror_mode": {
    "name": "ipython",
    "version": 3
   },
   "file_extension": ".py",
   "mimetype": "text/x-python",
   "name": "python",
   "nbconvert_exporter": "python",
   "pygments_lexer": "ipython3",
   "version": "3.7.4"
  }
 },
 "nbformat": 4,
 "nbformat_minor": 4
}
