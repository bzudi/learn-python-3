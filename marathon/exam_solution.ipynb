{
 "cells": [
  {
   "cell_type": "markdown",
   "metadata": {},
   "source": [
    "# Exam Solution"
   ]
  },
  {
   "cell_type": "markdown",
   "metadata": {},
   "source": [
    "recursion"
   ]
  },
  {
   "cell_type": "code",
   "execution_count": null,
   "metadata": {},
   "outputs": [],
   "source": [
    "def count_char(s,c):\n",
    "    if not s:\n",
    "        return 0\n",
    "    if s[0] == c:\n",
    "        return 1 + count_char(s[1:],c)\n",
    "    else:\n",
    "        return count_char(s[1:],c)"
   ]
  },
  {
   "cell_type": "code",
   "execution_count": null,
   "metadata": {},
   "outputs": [],
   "source": [
    "count_char('hello','l')"
   ]
  },
  {
   "cell_type": "markdown",
   "metadata": {},
   "source": [
    "OOP - Implement Student Course classes"
   ]
  },
  {
   "cell_type": "code",
   "execution_count": null,
   "metadata": {
    "scrolled": false
   },
   "outputs": [],
   "source": [
    "class Student:\n",
    "    def __init__(self, name, id):\n",
    "        self.name = name\n",
    "        self.id = id\n",
    "\n",
    "    def __eq__(self, other):\n",
    "        self.id == other.id and seld.name == other.name"
   ]
  },
  {
   "cell_type": "code",
   "execution_count": null,
   "metadata": {},
   "outputs": [],
   "source": [
    "class Course:\n",
    "    def __init__(self, name, day, start_time, students):\n",
    "        self.name = name\n",
    "        self.day = day\n",
    "        self.start_time = start_time\n",
    "        self.students = students\n",
    "\n",
    "    def overlap_exists(self, other_course):\n",
    "        same_time = self.day == other_course.day and self.start_time == other_course.start_time \n",
    "        common_students = [s for s in self.students if s in other_course.students]\n",
    "        if same_time and common_students:\n",
    "            return True\n",
    "        else:\n",
    "            return False"
   ]
  },
  {
   "cell_type": "code",
   "execution_count": null,
   "metadata": {},
   "outputs": [],
   "source": [
    "reuven = Student('reuven','12321')\n",
    "shimon = Student('shimon','234232')\n",
    "levi = Student('levi','9876755')\n",
    "\n",
    "python_course = Course('python','sunday','10',[reuven, shimon])\n",
    "java_course = Course('java','sunday','10',[reuven, levi])\n",
    "print(python_course.overlap_exists(java_course))\n"
   ]
  },
  {
   "cell_type": "code",
   "execution_count": null,
   "metadata": {
    "scrolled": true
   },
   "outputs": [],
   "source": [
    "python_course = Course('python','sunday','10',[reuven, shimon])\n",
    "c_course =  Course('c','sunday','10',[levi])\n",
    "print(python_course.overlap_exists(c_course))\n"
   ]
  },
  {
   "cell_type": "code",
   "execution_count": null,
   "metadata": {},
   "outputs": [],
   "source": [
    "python_course = Course('python','sunday','10',[reuven, shimon])\n",
    "biology = Course('biology','monday','10',[reuven, shimon])\n",
    "print(python_course.overlap_exists(c_course))\n"
   ]
  },
  {
   "cell_type": "markdown",
   "metadata": {},
   "source": [
    "Bubble sort"
   ]
  },
  {
   "cell_type": "code",
   "execution_count": null,
   "metadata": {},
   "outputs": [],
   "source": [
    "def even(num):\n",
    "    return num % 2 == 0\n",
    "\n",
    "def odd(num):\n",
    "    return num % 2 != 0\n",
    "\n",
    "def hierarchical_sort(l):\n",
    "    n = len(l)\n",
    "    for i in range(n):\n",
    "        for j in range(0, n - i - 1):\n",
    "            if even(l[j]) and odd(l[j+1]): # do nothing\n",
    "                continue \n",
    "            elif odd(l[j]) and even(l[j+1]): # always swap \n",
    "                l[j], l[j + 1] = l[j + 1], l[j] \n",
    "            elif l[j] > l[j + 1]: # trivial case  swap \n",
    "                l[j], l[j + 1] = l[j + 1], l[j]\n",
    "    return l"
   ]
  },
  {
   "cell_type": "code",
   "execution_count": null,
   "metadata": {},
   "outputs": [],
   "source": [
    "hierarchical_sort([9,5,6,7,8,3,4,2,1])"
   ]
  },
  {
   "cell_type": "markdown",
   "metadata": {},
   "source": [
    "Grades analysis"
   ]
  },
  {
   "cell_type": "code",
   "execution_count": null,
   "metadata": {},
   "outputs": [],
   "source": [
    "def average_score(l):\n",
    "    sum = 0\n",
    "    for i in l:\n",
    "        sum+=i\n",
    "    \n",
    "    return sum / len(l)\n",
    "\n",
    "def min_max(l):\n",
    "    min = l[0]\n",
    "    max = l[0]\n",
    "    for i in l:\n",
    "        if i < min:\n",
    "            min = i\n",
    "        if i > max:\n",
    "            max = i\n",
    "    \n",
    "    return min, max\n",
    "    \n",
    "exam_grades = [50, 60, 72, 80, 100, 99, 42, 58, 82, 85]\n",
    "exercise_grades = [60, 82, 74, 92, 100, 92, 68, 88, 90, 100]\n",
    "print (\"Exam:\")\n",
    "avg_exam_grade = average_score(exam_grades)\n",
    "min_exam_grade, max_exam_grade = min_max(exam_grades)\n",
    "print (\"min exam grade = \" + str(min_exam_grade))\n",
    "print (\"average exam grade = \" + str(avg_exam_grade))\n",
    "print (\"max exam grade = \" + str(max_exam_grade))\n",
    "print ()\n",
    "print (\"Exercise:\")\n",
    "avg_exercise_grade = average_score(exercise_grades)\n",
    "min_exercise_grade, max_exercise_grade = min_max(exercise_grades)\n",
    "print (\"min exercise grade = \" + str(min_exercise_grade))\n",
    "print (\"average exercise grade = \" + str(avg_exercise_grade))\n",
    "print (\"max exercise grade = \" + str(max_exercise_grade))\n"
   ]
  },
  {
   "cell_type": "code",
   "execution_count": null,
   "metadata": {},
   "outputs": [],
   "source": [
    "def divide_students(student_names, exam_grades, exercise_grades):\n",
    "    a_studetns = []\n",
    "    f_students = []\n",
    "    rest_students = []\n",
    "    for i in range(len(student_names)):\n",
    "        final_grade = 0.6*exam_grades[i] + 0.4*exercise_grades[i]\n",
    "        if final_grade > 90 and exam_grades[i]>85:\n",
    "            a_studetns.append(student_names[i])\n",
    "        elif final_grade < 50 or exam_grades[i] < 60:\n",
    "            f_students.append(student_names[i])\n",
    "        else:\n",
    "            rest_students.append(student_names[i])\n",
    "    \n",
    "    return a_studetns,f_students,rest_students\n",
    "            \n",
    "\n",
    "\n",
    "student_names = ['Guy', 'Amit', 'Shai', 'Moris', 'Zeev', \\\n",
    "'Chen', 'Michael', 'Tali', 'Inna', 'Ruth']\n",
    "excls, fails, rest = divide_students(student_names, \\\n",
    "exam_grades, exercise_grades)\n",
    "\n",
    "print(\"Excellent students =\", excls)\n",
    "print(\"Failed students =\", fails)\n",
    "print(\"Rest of students =\", rest)"
   ]
  },
  {
   "cell_type": "code",
   "execution_count": null,
   "metadata": {},
   "outputs": [],
   "source": []
  },
  {
   "cell_type": "code",
   "execution_count": null,
   "metadata": {},
   "outputs": [],
   "source": []
  },
  {
   "cell_type": "code",
   "execution_count": null,
   "metadata": {},
   "outputs": [],
   "source": []
  },
  {
   "cell_type": "code",
   "execution_count": null,
   "metadata": {},
   "outputs": [],
   "source": []
  },
  {
   "cell_type": "code",
   "execution_count": null,
   "metadata": {},
   "outputs": [],
   "source": []
  },
  {
   "cell_type": "code",
   "execution_count": null,
   "metadata": {},
   "outputs": [],
   "source": []
  },
  {
   "cell_type": "code",
   "execution_count": null,
   "metadata": {},
   "outputs": [],
   "source": []
  },
  {
   "cell_type": "code",
   "execution_count": null,
   "metadata": {},
   "outputs": [],
   "source": []
  },
  {
   "cell_type": "code",
   "execution_count": null,
   "metadata": {},
   "outputs": [],
   "source": []
  },
  {
   "cell_type": "code",
   "execution_count": null,
   "metadata": {},
   "outputs": [],
   "source": []
  },
  {
   "cell_type": "code",
   "execution_count": null,
   "metadata": {},
   "outputs": [],
   "source": []
  },
  {
   "cell_type": "code",
   "execution_count": null,
   "metadata": {},
   "outputs": [],
   "source": []
  },
  {
   "cell_type": "code",
   "execution_count": null,
   "metadata": {},
   "outputs": [],
   "source": []
  },
  {
   "cell_type": "code",
   "execution_count": null,
   "metadata": {},
   "outputs": [],
   "source": []
  },
  {
   "cell_type": "code",
   "execution_count": null,
   "metadata": {},
   "outputs": [],
   "source": []
  }
 ],
 "metadata": {
  "kernelspec": {
   "display_name": "Python 3",
   "language": "python",
   "name": "python3"
  },
  "language_info": {
   "codemirror_mode": {
    "name": "ipython",
    "version": 3
   },
   "file_extension": ".py",
   "mimetype": "text/x-python",
   "name": "python",
   "nbconvert_exporter": "python",
   "pygments_lexer": "ipython3",
   "version": "3.7.4"
  },
  "pycharm": {
   "stem_cell": {
    "cell_type": "raw",
    "source": [],
    "metadata": {
     "collapsed": false
    }
   }
  }
 },
 "nbformat": 4,
 "nbformat_minor": 2
}