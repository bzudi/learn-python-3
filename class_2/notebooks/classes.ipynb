{
 "cells": [
  {
   "cell_type": "markdown",
   "metadata": {},
   "source": [
    "\n",
    "# Intro to python Tigbur 2\n",
    "**Tutor** Udi Ben Zvi<br>\n",
    "**Email** - bzvi.udi@gmail.com<br>\n",
    "**Notebooks** https://github.com/bzudi/learn-python-3\n",
    "\n",
    "\n",
    "## Plan for today\n",
    "#### Go over on the following topics according to your request 15-20 min\n",
    "Classes <br>\n",
    "List Comprehensions <br>\n",
    "\n",
    "#### Hands on python at least 1 Hour \n",
    "homework <br>\n",
    "class challenges <br>\n",
    "\n",
    "\n"
   ]
  },
  {
   "cell_type": "markdown",
   "metadata": {},
   "source": [
    "# [Classes](https://docs.python.org/3/tutorial/classes.html#a-first-look-at-classes)"
   ]
  },
  {
   "cell_type": "markdown",
   "metadata": {},
   "source": [
    "A class is a code template for creating objects. A class provides **member variables** for state and **methods** for behavior"
   ]
  },
  {
   "cell_type": "code",
   "execution_count": null,
   "metadata": {},
   "outputs": [],
   "source": [
    "class Person:\n",
    "    def __init__(self, name):\n",
    "        # member variable for state\n",
    "        self.name = name\n",
    "\n",
    "    # method for behavior\n",
    "    def say_hello(self):\n",
    "        return 'Hello my name is {}!'.format(self.name)"
   ]
  },
  {
   "cell_type": "markdown",
   "metadata": {},
   "source": [
    "## Members\n",
    "The variables inside classes are called members."
   ]
  },
  {
   "cell_type": "code",
   "execution_count": null,
   "metadata": {
    "scrolled": true
   },
   "outputs": [],
   "source": [
    "p = Person('John Doe')\n",
    "print('name memeber: {}'.format(p.name))"
   ]
  },
  {
   "cell_type": "markdown",
   "metadata": {},
   "source": [
    "## Methods\n",
    "The functions inside classes are called methods. They are used similarly as functions. "
   ]
  },
  {
   "cell_type": "code",
   "execution_count": null,
   "metadata": {
    "scrolled": true
   },
   "outputs": [],
   "source": [
    "p = Person('John Doe')\n",
    "print('say hello method: {}'.format(p.say_hello()))"
   ]
  },
  {
   "cell_type": "markdown",
   "metadata": {},
   "source": [
    "### `__init__()`"
   ]
  },
  {
   "cell_type": "markdown",
   "metadata": {},
   "source": [
    "`__init__()` is typically used for initialising instance variables of your class. These can be listed as arguments after `self`. To be able to access these instance variables later during your instance's lifetime, you have to save them into `self`. `self` is the first argument of the methods of your class and it's your access to the instance variables and other methods. "
   ]
  },
  {
   "cell_type": "code",
   "execution_count": null,
   "metadata": {},
   "outputs": [],
   "source": [
    "class Person:\n",
    "    def __init__(self, name, last_name):\n",
    "        self.name = name\n",
    "        self.last_name = last_name\n",
    "\n",
    "    def say_hello(self):\n",
    "        return 'Hello my name is {} {}!'.format(self.name, self.last_name)\n",
    "\n",
    "p = Person('Donald', 'Trump')\n",
    "p.say_hello()\n",
    "    "
   ]
  },
  {
   "cell_type": "markdown",
   "metadata": {},
   "source": [
    "## Class variables vs instance variables\n",
    "Class variables are shared between all the instances of that class whereas instance variables can hold different values between different instances of that class."
   ]
  },
  {
   "cell_type": "code",
   "execution_count": null,
   "metadata": {},
   "outputs": [],
   "source": [
    "class Student:\n",
    "    university = 'Bar Ilan'\n",
    "    \n",
    "    def __init__(self, name):\n",
    "        self.name = name\n",
    "\n",
    "    def say_hello(self):\n",
    "        return 'Hello my name is {}! i study in {}'.format(self.name, Student.university)\n",
    "\n",
    "    \n",
    "reuven = Student('Reuven')\n",
    "shimon = Student('Shimon')\n",
    "\n",
    "print(reuven.say_hello())\n",
    "print(shimon.say_hello())\n",
    "\n",
    "print('\\nAfter change class variable')\n",
    "Student.university = 'Ben Gurion'\n",
    "\n",
    "print(reuven.say_hello())\n",
    "print(shimon.say_hello())"
   ]
  }
 ],
 "metadata": {
  "kernelspec": {
   "display_name": "Python 3",
   "language": "python",
   "name": "python3"
  },
  "language_info": {
   "codemirror_mode": {
    "name": "ipython",
    "version": 3
   },
   "file_extension": ".py",
   "mimetype": "text/x-python",
   "name": "python",
   "nbconvert_exporter": "python",
   "pygments_lexer": "ipython3",
   "version": "3.7.4"
  }
 },
 "nbformat": 4,
 "nbformat_minor": 2
}
